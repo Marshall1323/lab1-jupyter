{
 "cells": [
  {
   "cell_type": "markdown",
   "id": "52280788",
   "metadata": {},
   "source": [
    "# Лабораторна робота №1\n",
    "## Основи роботи в середовищі Jupyter Notebook\n",
    "\n",
    "**Тема:** Основи роботи в середовищі *Jupyter Notebook*  \n",
    "**Мета:** Ознайомитись з особливістю використання мови Python в середовищі Jupyter Notebook та отримати навички роботи з блокнотом.\n"
   ]
  },
  {
   "cell_type": "markdown",
   "id": "f2acf8f0",
   "metadata": {},
   "source": [
    "### Інформація про країну: **Грузія**\n",
    "\n",
    "<table border=\"1\">\n",
    "<tr><th>Параметр</th><th>Значення</th></tr>\n",
    "<tr><td>Площа</td><td>69 700 км²</td></tr>\n",
    "<tr><td>Населення</td><td>3,7 млн</td></tr>\n",
    "<tr><td>Столиця</td><td>Тбілісі</td></tr>\n",
    "<tr><td>Державний устрій</td><td>Парламентська республіка</td></tr>\n",
    "</table>\n"
   ]
  },
  {
   "cell_type": "markdown",
   "id": "e5406c46",
   "metadata": {},
   "source": [
    "### Видатні персоналії\n",
    "1. Шота Руставелі  \n",
    "2. Ілля Чавчавадзе  \n",
    "3. Ніко Піросмані  \n",
    "   - Художник  \n",
    "   - Представник примітивізму  \n"
   ]
  },
  {
   "cell_type": "markdown",
   "id": "6326a87c",
   "metadata": {},
   "source": [
    "### Пам’ятки культури та природи\n",
    "- Мцхета (історичне місто)\n",
    "- Давід-Гареджі (печерні монастирі)\n",
    "- Сванські вежі в Местії  \n"
   ]
  },
  {
   "cell_type": "markdown",
   "id": "5dc2a4df",
   "metadata": {},
   "source": [
    "### Гіперпосилання\n",
    "[Детальніше про Грузію у Вікіпедії](https://uk.wikipedia.org/wiki/Грузія)\n"
   ]
  },
  {
   "cell_type": "markdown",
   "id": "e0f65645",
   "metadata": {},
   "source": [
    "### Прапор (SVG)\n",
    "<svg xmlns=\"http://www.w3.org/2000/svg\" width=\"300\" height=\"180\">\n",
    "  <rect width=\"300\" height=\"180\" fill=\"white\"/>\n",
    "  <rect x=\"120\" width=\"60\" height=\"180\" fill=\"red\"/>\n",
    "  <rect y=\"60\" width=\"300\" height=\"60\" fill=\"red\"/>\n",
    "\n",
    "  <rect x=\"35\" y=\"20\" width=\"30\" height=\"10\" fill=\"red\"/>\n",
    "  <rect x=\"45\" y=\"10\" width=\"10\" height=\"30\" fill=\"red\"/>\n",
    "\n",
    "  <rect x=\"235\" y=\"20\" width=\"30\" height=\"10\" fill=\"red\"/>\n",
    "  <rect x=\"245\" y=\"10\" width=\"10\" height=\"30\" fill=\"red\"/>\n",
    "\n",
    "  <rect x=\"35\" y=\"140\" width=\"30\" height=\"10\" fill=\"red\"/>\n",
    "  <rect x=\"45\" y=\"130\" width=\"10\" height=\"30\" fill=\"red\"/>\n",
    "\n",
    "  <rect x=\"235\" y=\"140\" width=\"30\" height=\"10\" fill=\"red\"/>\n",
    "  <rect x=\"245\" y=\"130\" width=\"10\" height=\"30\" fill=\"red\"/>\n",
    "</svg>"
   ]
  },
  {
   "cell_type": "code",
   "id": "45ddaa1d",
   "metadata": {
    "ExecuteTime": {
     "end_time": "2025-09-22T07:26:48.292293Z",
     "start_time": "2025-09-22T07:26:48.285503Z"
    }
   },
   "source": [
    "def task_8():\n",
    "    try:\n",
    "        nums = list(map(int, input(\"Введіть список чисел через пробіл: \").split()))\n",
    "        i = 0\n",
    "        while i < len(nums):\n",
    "            if i == 0 or nums[i - 1] >= nums[i]:\n",
    "                i += 1\n",
    "            else:\n",
    "                nums[i], nums[i - 1] = nums[i - 1], nums[i]\n",
    "                i -= 1\n",
    "        print(nums)\n",
    "    except ValueError:\n",
    "        print(\"Помилка: введіть лише цілі числа, розділені пробілом.\")"
   ],
   "outputs": [],
   "execution_count": 1
  },
  {
   "cell_type": "code",
   "id": "bc22595e",
   "metadata": {
    "ExecuteTime": {
     "end_time": "2025-09-22T07:27:04.356747Z",
     "start_time": "2025-09-22T07:26:59.630036Z"
    }
   },
   "source": [
    "task_8()  # Введення: 5 3 78 3 23 7 34"
   ],
   "outputs": [
    {
     "name": "stdout",
     "output_type": "stream",
     "text": [
      "[313, 31, 13, 3, 1]\n"
     ]
    }
   ],
   "execution_count": 3
  },
  {
   "cell_type": "code",
   "execution_count": 2,
   "id": "4c5adbdf",
   "metadata": {},
   "outputs": [
    {
     "name": "stdout",
     "output_type": "stream",
     "text": [
      "[]\n"
     ]
    }
   ],
   "source": [
    "task_8()  # Введення: 9 1 2 3 4 5"
   ]
  },
  {
   "cell_type": "markdown",
   "id": "1a1c9eb2",
   "metadata": {},
   "source": [
    "### Висновок\n",
    "- Отримано навички роботи з Jupyter Notebook.  \n",
    "- Створено сторінку з форматуванням Markdown + HTML.  \n",
    "- Реалізовано гном’яче сортування та протестовано алгоритм на прикладах.  \n"
   ]
  }
 ],
 "metadata": {
  "kernelspec": {
   "display_name": ".venv (3.13.3)",
   "language": "python",
   "name": "python3"
  },
  "language_info": {
   "codemirror_mode": {
    "name": "ipython",
    "version": 3
   },
   "file_extension": ".py",
   "mimetype": "text/x-python",
   "name": "python",
   "nbconvert_exporter": "python",
   "pygments_lexer": "ipython3",
   "version": "3.13.3"
  }
 },
 "nbformat": 4,
 "nbformat_minor": 5
}
