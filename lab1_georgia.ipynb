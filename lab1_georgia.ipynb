{
 "cells": [
  {
   "cell_type": "markdown",
   "id": "e11b5be5",
   "metadata": {},
   "source": [
    "# Лабораторна робота №1\n",
    "## Основи роботи в середовищі Jupyter Notebook"
   ]
  },
  {
   "cell_type": "markdown",
   "id": "062e28f6",
   "metadata": {},
   "source": [
    "\n",
    "**Тема:** Основи роботи в середовищі Jupyter Notebook  \n",
    "**Мета:** Ознайомитись з особливістю використання мови Python в середовищі Jupyter Notebook та отримати навички роботи з блокнотом.\n"
   ]
  },
  {
   "cell_type": "markdown",
   "id": "054eb01d",
   "metadata": {},
   "source": [
    "Реалізація алгоритму (Гном’яче сортування по спаданню)"
   ]
  },
  {
   "cell_type": "code",
   "execution_count": 8,
   "id": "c098d9ed",
   "metadata": {},
   "outputs": [],
   "source": [
    "\n",
    "def task_8():\n",
    "    try:\n",
    "        nums = list(map(int, input(\"Введіть список чисел через пробіл: \").split()))\n",
    "        i = 0\n",
    "        while i < len(nums):\n",
    "            if i == 0 or nums[i - 1] >= nums[i]:\n",
    "                i += 1\n",
    "            else:\n",
    "                nums[i], nums[i - 1] = nums[i - 1], nums[i]\n",
    "                i -= 1\n",
    "        print(nums)\n",
    "    except ValueError:\n",
    "        print(\"Помилка: введіть лише цілі числа, розділені пробілом.\")\n"
   ]
  },
  {
   "cell_type": "markdown",
   "id": "f4864892",
   "metadata": {},
   "source": [
    "Тест 1:"
   ]
  },
  {
   "cell_type": "code",
   "execution_count": 9,
   "id": "1661511d",
   "metadata": {},
   "outputs": [
    {
     "name": "stdin",
     "output_type": "stream",
     "text": [
      "Введіть список чисел через пробіл:  5 3 78 3 23 7 34\n"
     ]
    },
    {
     "name": "stdout",
     "output_type": "stream",
     "text": [
      "[78, 34, 23, 7, 5, 3, 3]\n"
     ]
    }
   ],
   "source": [
    "task_8()  # Введення: 5 3 78 3 23 7 34"
   ]
  },
  {
   "cell_type": "markdown",
   "id": "587e23d7-0ec4-48fe-84dd-1878d78ca5eb",
   "metadata": {},
   "source": [
    "Тест 2: "
   ]
  },
  {
   "cell_type": "code",
   "execution_count": 10,
   "id": "d855778a",
   "metadata": {},
   "outputs": [
    {
     "name": "stdin",
     "output_type": "stream",
     "text": [
      "Введіть список чисел через пробіл:  9 1 2 3 4 5\n"
     ]
    },
    {
     "name": "stdout",
     "output_type": "stream",
     "text": [
      "[9, 5, 4, 3, 2, 1]\n"
     ]
    }
   ],
   "source": [
    "task_8()  # Введення: 9 1 2 3 4 5"
   ]
  },
  {
   "cell_type": "markdown",
   "id": "88fa8795",
   "metadata": {},
   "source": [
    "\n",
    "Висновок\n",
    "- Отримано навички роботи з Jupyter Notebook.\n",
    "- Створено сторінку з форматуванням Markdown + HTML.\n",
    "- Реалізовано гном’яче сортування та протестовано алгоритм на прикладах.\n"
   ]
  }
 ],
 "metadata": {
  "kernelspec": {
   "display_name": "Python 3 (ipykernel)",
   "language": "python",
   "name": "python3"
  },
  "language_info": {
   "codemirror_mode": {
    "name": "ipython",
    "version": 3
   },
   "file_extension": ".py",
   "mimetype": "text/x-python",
   "name": "python",
   "nbconvert_exporter": "python",
   "pygments_lexer": "ipython3",
   "version": "3.13.3"
  }
 },
 "nbformat": 4,
 "nbformat_minor": 5
}
